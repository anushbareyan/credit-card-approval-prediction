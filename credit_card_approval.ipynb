{
 "cells": [
  {
   "cell_type": "markdown",
   "metadata": {},
   "source": [
    "# Credit Card Approvals"
   ]
  },
  {
   "cell_type": "code",
   "execution_count": 1,
   "metadata": {
    "id": "Gwm-CPrI2gp1"
   },
   "outputs": [],
   "source": [
    "# %%capture\n",
    "# !pip install category_encoders\n",
    "# !pip install hypergbm\n",
    "# !pip install catboost"
   ]
  },
  {
   "cell_type": "code",
   "execution_count": 2,
   "metadata": {
    "colab": {
     "base_uri": "https://localhost:8080/"
    },
    "id": "wZqNyux0QPEH",
    "outputId": "c7412422-b877-40e1-bd92-58d648eaf7de",
    "scrolled": true
   },
   "outputs": [
    {
     "name": "stderr",
     "output_type": "stream",
     "text": [
      "/usr/local/Cellar/jupyterlab/4.1.5/libexec/lib/python3.12/site-packages/tqdm/auto.py:21: TqdmWarning: IProgress not found. Please update jupyter and ipywidgets. See https://ipywidgets.readthedocs.io/en/stable/user_install.html\n",
      "  from .autonotebook import tqdm as notebook_tqdm\n",
      "/usr/local/Cellar/jupyterlab/4.1.5/libexec/lib/python3.12/site-packages/sklearn/metrics/_scorer.py:548: FutureWarning: The `needs_threshold` and `needs_proba` parameter are deprecated in version 1.4 and will be removed in 1.6. You can either let `response_method` be `None` or set it to `predict` to preserve the same behaviour.\n",
      "  warnings.warn(\n"
     ]
    },
    {
     "name": "stdout",
     "output_type": "stream",
     "text": [
      "Missing values per column:\n",
      " Gender            0\n",
      "Age               0\n",
      "Debt              0\n",
      "Married           0\n",
      "BankCustomer      0\n",
      "Industry          0\n",
      "Ethnicity         0\n",
      "YearsEmployed     0\n",
      "PriorDefault      0\n",
      "Employed          0\n",
      "CreditScore       0\n",
      "DriversLicense    0\n",
      "Citizen           0\n",
      "ZipCode           0\n",
      "Income            0\n",
      "Approved          0\n",
      "dtype: int64\n"
     ]
    }
   ],
   "source": [
    "import pandas as pd\n",
    "import numpy as np\n",
    "import xgboost as xgb\n",
    "import category_encoders as ce\n",
    "import matplotlib.pyplot as plt \n",
    "from hypergbm import make_experiment\n",
    "from category_encoders import TargetEncoder\n",
    "from catboost import CatBoostClassifier, Pool\n",
    "from sklearn.ensemble import RandomForestClassifier\n",
    "from sklearn.linear_model import LogisticRegression\n",
    "from sklearn.model_selection import train_test_split, GridSearchCV\n",
    "from hypernets.core.search_space import HyperSpace, Choice, Int, Real\n",
    "from sklearn.metrics import accuracy_score, confusion_matrix, classification_report\n",
    "from sklearn.preprocessing import OrdinalEncoder, LabelEncoder, StandardScaler, MinMaxScaler\n",
    "from sklearn.metrics import roc_auc_score, roc_curve, auc, accuracy_score, f1_score, classification_report, precision_recall_curve, mean_absolute_percentage_error\n",
    "\n",
    "\n",
    "\n",
    "# Load the dataset\n",
    "df = pd.read_csv(\"clean_dataset.csv\")\n",
    "\n",
    "# Check for missing values\n",
    "print(\"Missing values per column:\\n\", df.isna().sum())\n",
    "\n",
    "df.columns = df.columns.str.lower().str.replace(' ', '_').str.replace('-', '_')"
   ]
  },
  {
   "cell_type": "code",
   "execution_count": 3,
   "metadata": {
    "colab": {
     "base_uri": "https://localhost:8080/",
     "height": 443
    },
    "id": "NfNywukJdtsg",
    "outputId": "0ea2b0a4-6e0a-430b-9065-2d91e091359b"
   },
   "outputs": [
    {
     "data": {
      "text/html": [
       "<div>\n",
       "<style scoped>\n",
       "    .dataframe tbody tr th:only-of-type {\n",
       "        vertical-align: middle;\n",
       "    }\n",
       "\n",
       "    .dataframe tbody tr th {\n",
       "        vertical-align: top;\n",
       "    }\n",
       "\n",
       "    .dataframe thead th {\n",
       "        text-align: right;\n",
       "    }\n",
       "</style>\n",
       "<table border=\"1\" class=\"dataframe\">\n",
       "  <thead>\n",
       "    <tr style=\"text-align: right;\">\n",
       "      <th></th>\n",
       "      <th>gender</th>\n",
       "      <th>age</th>\n",
       "      <th>debt</th>\n",
       "      <th>married</th>\n",
       "      <th>bankcustomer</th>\n",
       "      <th>industry</th>\n",
       "      <th>ethnicity</th>\n",
       "      <th>yearsemployed</th>\n",
       "      <th>priordefault</th>\n",
       "      <th>employed</th>\n",
       "      <th>creditscore</th>\n",
       "      <th>driverslicense</th>\n",
       "      <th>citizen</th>\n",
       "      <th>zipcode</th>\n",
       "      <th>income</th>\n",
       "      <th>approved</th>\n",
       "    </tr>\n",
       "  </thead>\n",
       "  <tbody>\n",
       "    <tr>\n",
       "      <th>0</th>\n",
       "      <td>1</td>\n",
       "      <td>30.83</td>\n",
       "      <td>0.000</td>\n",
       "      <td>1</td>\n",
       "      <td>1</td>\n",
       "      <td>Industrials</td>\n",
       "      <td>White</td>\n",
       "      <td>1.25</td>\n",
       "      <td>1</td>\n",
       "      <td>1</td>\n",
       "      <td>1</td>\n",
       "      <td>0</td>\n",
       "      <td>ByBirth</td>\n",
       "      <td>202</td>\n",
       "      <td>0</td>\n",
       "      <td>1</td>\n",
       "    </tr>\n",
       "    <tr>\n",
       "      <th>1</th>\n",
       "      <td>0</td>\n",
       "      <td>58.67</td>\n",
       "      <td>4.460</td>\n",
       "      <td>1</td>\n",
       "      <td>1</td>\n",
       "      <td>Materials</td>\n",
       "      <td>Black</td>\n",
       "      <td>3.04</td>\n",
       "      <td>1</td>\n",
       "      <td>1</td>\n",
       "      <td>6</td>\n",
       "      <td>0</td>\n",
       "      <td>ByBirth</td>\n",
       "      <td>43</td>\n",
       "      <td>560</td>\n",
       "      <td>1</td>\n",
       "    </tr>\n",
       "    <tr>\n",
       "      <th>2</th>\n",
       "      <td>0</td>\n",
       "      <td>24.50</td>\n",
       "      <td>0.500</td>\n",
       "      <td>1</td>\n",
       "      <td>1</td>\n",
       "      <td>Materials</td>\n",
       "      <td>Black</td>\n",
       "      <td>1.50</td>\n",
       "      <td>1</td>\n",
       "      <td>0</td>\n",
       "      <td>0</td>\n",
       "      <td>0</td>\n",
       "      <td>ByBirth</td>\n",
       "      <td>280</td>\n",
       "      <td>824</td>\n",
       "      <td>1</td>\n",
       "    </tr>\n",
       "    <tr>\n",
       "      <th>3</th>\n",
       "      <td>1</td>\n",
       "      <td>27.83</td>\n",
       "      <td>1.540</td>\n",
       "      <td>1</td>\n",
       "      <td>1</td>\n",
       "      <td>Industrials</td>\n",
       "      <td>White</td>\n",
       "      <td>3.75</td>\n",
       "      <td>1</td>\n",
       "      <td>1</td>\n",
       "      <td>5</td>\n",
       "      <td>1</td>\n",
       "      <td>ByBirth</td>\n",
       "      <td>100</td>\n",
       "      <td>3</td>\n",
       "      <td>1</td>\n",
       "    </tr>\n",
       "    <tr>\n",
       "      <th>4</th>\n",
       "      <td>1</td>\n",
       "      <td>20.17</td>\n",
       "      <td>5.625</td>\n",
       "      <td>1</td>\n",
       "      <td>1</td>\n",
       "      <td>Industrials</td>\n",
       "      <td>White</td>\n",
       "      <td>1.71</td>\n",
       "      <td>1</td>\n",
       "      <td>0</td>\n",
       "      <td>0</td>\n",
       "      <td>0</td>\n",
       "      <td>ByOtherMeans</td>\n",
       "      <td>120</td>\n",
       "      <td>0</td>\n",
       "      <td>1</td>\n",
       "    </tr>\n",
       "  </tbody>\n",
       "</table>\n",
       "</div>"
      ],
      "text/plain": [
       "   gender    age   debt  married  bankcustomer     industry ethnicity  \\\n",
       "0       1  30.83  0.000        1             1  Industrials     White   \n",
       "1       0  58.67  4.460        1             1    Materials     Black   \n",
       "2       0  24.50  0.500        1             1    Materials     Black   \n",
       "3       1  27.83  1.540        1             1  Industrials     White   \n",
       "4       1  20.17  5.625        1             1  Industrials     White   \n",
       "\n",
       "   yearsemployed  priordefault  employed  creditscore  driverslicense  \\\n",
       "0           1.25             1         1            1               0   \n",
       "1           3.04             1         1            6               0   \n",
       "2           1.50             1         0            0               0   \n",
       "3           3.75             1         1            5               1   \n",
       "4           1.71             1         0            0               0   \n",
       "\n",
       "        citizen  zipcode  income  approved  \n",
       "0       ByBirth      202       0         1  \n",
       "1       ByBirth       43     560         1  \n",
       "2       ByBirth      280     824         1  \n",
       "3       ByBirth      100       3         1  \n",
       "4  ByOtherMeans      120       0         1  "
      ]
     },
     "execution_count": 3,
     "metadata": {},
     "output_type": "execute_result"
    }
   ],
   "source": [
    "df.head()"
   ]
  },
  {
   "cell_type": "markdown",
   "metadata": {},
   "source": [
    "# Preprocessing"
   ]
  },
  {
   "cell_type": "markdown",
   "metadata": {},
   "source": [
    "### Handling NAs and Duplication"
   ]
  },
  {
   "cell_type": "code",
   "execution_count": 4,
   "metadata": {
    "colab": {
     "base_uri": "https://localhost:8080/"
    },
    "id": "vZqHMlBHcoc2",
    "outputId": "2734e2e7-674d-4fcf-ea3b-73115bf91045"
   },
   "outputs": [
    {
     "name": "stdout",
     "output_type": "stream",
     "text": [
      "Dropped columns with unique values: []\n",
      "Number of duplicates after dropping: 0\n"
     ]
    }
   ],
   "source": [
    "# Drop columns with unique values equal to the number of observations\n",
    "df_unique = df.nunique().sort_values(ascending=False)\n",
    "drop_cols = df_unique[df_unique.values == df.shape[0]].index.tolist()\n",
    "df = df.drop(columns=drop_cols)\n",
    "print(\"Dropped columns with unique values:\", drop_cols)\n",
    "\n",
    "# Check for duplicate observations and drop them\n",
    "num_duplicates = df.duplicated().sum()\n",
    "df = df.drop_duplicates()\n",
    "print(\"Number of duplicates after dropping:\", df.duplicated().sum())"
   ]
  },
  {
   "cell_type": "markdown",
   "metadata": {},
   "source": [
    "### Label Encoding"
   ]
  },
  {
   "cell_type": "code",
   "execution_count": 5,
   "metadata": {
    "id": "Y-nXvohHcq6f"
   },
   "outputs": [],
   "source": [
    "# Encode the target variable\n",
    "le = LabelEncoder()\n",
    "df[\"approved\"] = le.fit_transform(df[\"approved\"])\n",
    "\n",
    "# Define target and features\n",
    "X = df.drop(\"approved\", axis=1)\n",
    "y = df[\"approved\"]\n"
   ]
  },
  {
   "cell_type": "markdown",
   "metadata": {},
   "source": [
    "### Train-Test split"
   ]
  },
  {
   "cell_type": "code",
   "execution_count": 6,
   "metadata": {},
   "outputs": [],
   "source": [
    "# Split the dataset into training and testing sets\n",
    "X_train, X_test, y_train, y_test = train_test_split(X, y, test_size=0.2, random_state=42)"
   ]
  },
  {
   "cell_type": "markdown",
   "metadata": {},
   "source": [
    "### Target Encoding"
   ]
  },
  {
   "cell_type": "code",
   "execution_count": 7,
   "metadata": {
    "id": "DjK-uDYwcswD"
   },
   "outputs": [],
   "source": [
    "# Identify categorical features for target encoding\n",
    "target_encode_features = [\"industry\", \"ethnicity\",\"citizen\"]\n",
    "\n",
    "# Apply target encoding to categorical features\n",
    "target_encoder = TargetEncoder(cols=target_encode_features)\n",
    "X_train[target_encode_features] = target_encoder.fit_transform(X_train[target_encode_features], y_train)\n",
    "X_test[target_encode_features] = target_encoder.transform(X_test[target_encode_features])\n",
    "\n",
    "\n",
    "# Apply LabelEncoder to binary categorical features\n",
    "binary_categorical_features = [\"gender\", \"married\", \"bankcustomer\", \"employed\", \"driverslicense\"]\n",
    "le = LabelEncoder()\n",
    "for feature in binary_categorical_features:\n",
    "    X_train[feature] = le.fit_transform(X_train[feature])\n",
    "    X_test[feature] = le.transform(X_test[feature])"
   ]
  },
  {
   "cell_type": "markdown",
   "metadata": {},
   "source": [
    "### Correlation "
   ]
  },
  {
   "cell_type": "code",
   "execution_count": 8,
   "metadata": {
    "id": "Zi4F7dxicwXB"
   },
   "outputs": [
    {
     "name": "stdout",
     "output_type": "stream",
     "text": [
      "[]\n",
      "['bankcustomer']\n"
     ]
    }
   ],
   "source": [
    "# Calculate correlation matrix\n",
    "# Apply mask to keep only the upper triangle (exclude the diagonal as well)\n",
    "# Flatten the matrix and mask to pairs and their correlations\n",
    "# Filter for highly correlated pairs (e.g., |correlation| > 0.8)\n",
    "corr_threshold = 0.8\n",
    "corr_matrix = X_train.corr()\n",
    "mask = np.triu(np.ones_like(corr_matrix, dtype=bool), k=1)\n",
    "corr_pairs = corr_matrix.where(mask).stack()\n",
    "highly_corr_pairs = corr_pairs[abs(corr_pairs) > corr_threshold].reset_index()\n",
    "col_freq = highly_corr_pairs['level_0'].value_counts()\n",
    "cols_drop = col_freq[col_freq.values > 1].index.tolist()\n",
    "print(cols_drop)\n",
    "if cols_drop:\n",
    "    X_train = X_train.drop(cols_drop, axis=1)\n",
    "    X_test = X_test.drop(cols_drop, axis=1)\n",
    "\n",
    "corr_matrix = X_train.corr()\n",
    "mask = np.triu(np.ones_like(corr_matrix, dtype=bool), k=1)\n",
    "corr_pairs = corr_matrix.where(mask).stack()\n",
    "highly_corr_pairs = corr_pairs[abs(corr_pairs) > corr_threshold].reset_index()\n",
    "cols_drop = highly_corr_pairs['level_1'].tolist()\n",
    "if cols_drop:\n",
    "    X_train = X_train.drop(cols_drop, axis=1)\n",
    "    X_test = X_test.drop(cols_drop, axis=1)\n",
    "print(cols_drop)"
   ]
  },
  {
   "cell_type": "markdown",
   "metadata": {},
   "source": [
    "# Prediction"
   ]
  },
  {
   "cell_type": "code",
   "execution_count": 9,
   "metadata": {
    "id": "sMu06V7dvN2H",
    "scrolled": true
   },
   "outputs": [
    {
     "name": "stderr",
     "output_type": "stream",
     "text": [
      "05-17 12:23:57 W hypernets.d.__init__.py 14 - Failed to load GrpcProcess\n",
      "Traceback (most recent call last):\n",
      "  File \"/usr/local/Cellar/jupyterlab/4.1.5/libexec/lib/python3.12/site-packages/hypernets/dispatchers/process/__init__.py\", line 6, in <module>\n",
      "    from .grpc_process import GrpcProcess\n",
      "  File \"/usr/local/Cellar/jupyterlab/4.1.5/libexec/lib/python3.12/site-packages/hypernets/dispatchers/process/grpc_process.py\", line 6, in <module>\n",
      "    from hypernets.dispatchers.process.grpc.process_broker_client import ProcessBrokerClient\n",
      "  File \"/usr/local/Cellar/jupyterlab/4.1.5/libexec/lib/python3.12/site-packages/hypernets/dispatchers/process/grpc/process_broker_client.py\", line 6, in <module>\n",
      "    from hypernets.dispatchers.process.grpc.proto import proc_pb2_grpc\n",
      "  File \"/usr/local/Cellar/jupyterlab/4.1.5/libexec/lib/python3.12/site-packages/hypernets/dispatchers/process/grpc/proto/proc_pb2_grpc.py\", line 4, in <module>\n",
      "    from hypernets.dispatchers.process.grpc.proto import proc_pb2 as hypernets_dot_dispatchers_dot_process_dot_grpc_dot_proto_dot_proc__pb2\n",
      "  File \"/usr/local/Cellar/jupyterlab/4.1.5/libexec/lib/python3.12/site-packages/hypernets/dispatchers/process/grpc/proto/proc_pb2.py\", line 34, in <module>\n",
      "    _descriptor.EnumValueDescriptor(\n",
      "  File \"/usr/local/Cellar/jupyterlab/4.1.5/libexec/lib/python3.12/site-packages/google/protobuf/descriptor.py\", line 789, in __new__\n",
      "    _message.Message._CheckCalledFromGeneratedFile()\n",
      "TypeError: Descriptors cannot be created directly.\n",
      "If this call came from a _pb2.py file, your generated code is out of date and must be regenerated with protoc >= 3.19.0.\n",
      "If you cannot immediately regenerate your protos, some other possible workarounds are:\n",
      " 1. Downgrade the protobuf package to 3.20.x or lower.\n",
      " 2. Set PROTOCOL_BUFFERS_PYTHON_IMPLEMENTATION=python (but this will use pure-Python parsing and will be much slower).\n",
      "\n",
      "More information: https://developers.google.com/protocol-buffers/docs/news/2022-05-06#python-updates\n"
     ]
    },
    {
     "data": {
      "text/markdown": [
       "### Input Data"
      ]
     },
     "metadata": {},
     "output_type": "display_data"
    },
    {
     "data": {
      "text/html": [
       "<div>\n",
       "<style scoped>\n",
       "    .dataframe tbody tr th:only-of-type {\n",
       "        vertical-align: middle;\n",
       "    }\n",
       "\n",
       "    .dataframe tbody tr th {\n",
       "        vertical-align: top;\n",
       "    }\n",
       "\n",
       "    .dataframe thead th {\n",
       "        text-align: right;\n",
       "    }\n",
       "</style>\n",
       "<table border=\"1\" class=\"dataframe\">\n",
       "  <thead>\n",
       "    <tr style=\"text-align: right;\">\n",
       "      <th></th>\n",
       "      <th>X_train.shape</th>\n",
       "      <th>y_train.shape</th>\n",
       "      <th>X_eval.shape</th>\n",
       "      <th>y_eval.shape</th>\n",
       "      <th>X_test.shape</th>\n",
       "      <th>Task</th>\n",
       "    </tr>\n",
       "  </thead>\n",
       "  <tbody>\n",
       "    <tr>\n",
       "      <th>0</th>\n",
       "      <td>(552, 14)</td>\n",
       "      <td>(552,)</td>\n",
       "      <td>(138, 14)</td>\n",
       "      <td>(138,)</td>\n",
       "      <td>None</td>\n",
       "      <td>binary(2)</td>\n",
       "    </tr>\n",
       "  </tbody>\n",
       "</table>\n",
       "</div>"
      ],
      "text/plain": [
       "  X_train.shape y_train.shape X_eval.shape y_eval.shape X_test.shape  \\\n",
       "0     (552, 14)        (552,)    (138, 14)       (138,)         None   \n",
       "\n",
       "        Task  \n",
       "0  binary(2)  "
      ]
     },
     "metadata": {},
     "output_type": "display_data"
    },
    {
     "data": {
      "image/png": "[encoded data removed]",
      "text/plain": [
       "<Figure size 640x320 with 1 Axes>"
      ]
     },
     "metadata": {},
     "output_type": "display_data"
    },
    {
     "data": {
      "text/markdown": [
       "## Data Adaption"
      ]
     },
     "metadata": {},
     "output_type": "display_data"
    },
    {
     "data": {
      "text/markdown": [
       "### Initliazed parameters"
      ]
     },
     "metadata": {},
     "output_type": "display_data"
    },
    {
     "data": {
      "text/html": [
       "<div>\n",
       "<style scoped>\n",
       "    .dataframe tbody tr th:only-of-type {\n",
       "        vertical-align: middle;\n",
       "    }\n",
       "\n",
       "    .dataframe tbody tr th {\n",
       "        vertical-align: top;\n",
       "    }\n",
       "\n",
       "    .dataframe thead th {\n",
       "        text-align: right;\n",
       "    }\n",
       "</style>\n",
       "<table border=\"1\" class=\"dataframe\">\n",
       "  <thead>\n",
       "    <tr style=\"text-align: right;\">\n",
       "      <th></th>\n",
       "      <th>key</th>\n",
       "      <th>value</th>\n",
       "    </tr>\n",
       "  </thead>\n",
       "  <tbody>\n",
       "    <tr>\n",
       "      <th>0</th>\n",
       "      <td>memory_limit</td>\n",
       "      <td>0.05</td>\n",
       "    </tr>\n",
       "    <tr>\n",
       "      <th>1</th>\n",
       "      <td>min_cols</td>\n",
       "      <td>0.3</td>\n",
       "    </tr>\n",
       "    <tr>\n",
       "      <th>2</th>\n",
       "      <td>name</td>\n",
       "      <td>data_adaption</td>\n",
       "    </tr>\n",
       "    <tr>\n",
       "      <th>3</th>\n",
       "      <td>target</td>\n",
       "      <td>None</td>\n",
       "    </tr>\n",
       "  </tbody>\n",
       "</table>\n",
       "</div>"
      ],
      "text/plain": [
       "            key          value\n",
       "0  memory_limit           0.05\n",
       "1      min_cols            0.3\n",
       "2          name  data_adaption\n",
       "3        target           None"
      ]
     },
     "metadata": {},
     "output_type": "display_data"
    },
    {
     "data": {
      "text/markdown": [
       "### Fitted parameters"
      ]
     },
     "metadata": {},
     "output_type": "display_data"
    },
    {
     "data": {
      "text/html": [
       "<div>\n",
       "<style scoped>\n",
       "    .dataframe tbody tr th:only-of-type {\n",
       "        vertical-align: middle;\n",
       "    }\n",
       "\n",
       "    .dataframe tbody tr th {\n",
       "        vertical-align: top;\n",
       "    }\n",
       "\n",
       "    .dataframe thead th {\n",
       "        text-align: right;\n",
       "    }\n",
       "</style>\n",
       "<table border=\"1\" class=\"dataframe\">\n",
       "  <thead>\n",
       "    <tr style=\"text-align: right;\">\n",
       "      <th></th>\n",
       "      <th>key</th>\n",
       "      <th>value</th>\n",
       "    </tr>\n",
       "  </thead>\n",
       "  <tbody>\n",
       "    <tr>\n",
       "      <th>0</th>\n",
       "      <td>input_features</td>\n",
       "      <td>[gender, age, debt, married, industry, ethnici...</td>\n",
       "    </tr>\n",
       "    <tr>\n",
       "      <th>1</th>\n",
       "      <td>selected_features</td>\n",
       "      <td>[gender, age, debt, married, industry, ethnici...</td>\n",
       "    </tr>\n",
       "    <tr>\n",
       "      <th>2</th>\n",
       "      <td>unselected_features</td>\n",
       "      <td>[]</td>\n",
       "    </tr>\n",
       "  </tbody>\n",
       "</table>\n",
       "</div>"
      ],
      "text/plain": [
       "                   key                                              value\n",
       "0       input_features  [gender, age, debt, married, industry, ethnici...\n",
       "1    selected_features  [gender, age, debt, married, industry, ethnici...\n",
       "2  unselected_features                                                 []"
      ]
     },
     "metadata": {},
     "output_type": "display_data"
    },
    {
     "data": {
      "text/markdown": [
       "### Elapsed"
      ]
     },
     "metadata": {},
     "output_type": "display_data"
    },
    {
     "data": {
      "text/markdown": [
       "* 0.008 seconds"
      ]
     },
     "metadata": {},
     "output_type": "display_data"
    },
    {
     "data": {
      "text/markdown": [
       "## Data Clean"
      ]
     },
     "metadata": {},
     "output_type": "display_data"
    },
    {
     "data": {
      "text/markdown": [
       "### Initliazed parameters"
      ]
     },
     "metadata": {},
     "output_type": "display_data"
    },
    {
     "data": {
      "text/html": [
       "<div>\n",
       "<style scoped>\n",
       "    .dataframe tbody tr th:only-of-type {\n",
       "        vertical-align: middle;\n",
       "    }\n",
       "\n",
       "    .dataframe tbody tr th {\n",
       "        vertical-align: top;\n",
       "    }\n",
       "\n",
       "    .dataframe thead th {\n",
       "        text-align: right;\n",
       "    }\n",
       "</style>\n",
       "<table border=\"1\" class=\"dataframe\">\n",
       "  <thead>\n",
       "    <tr style=\"text-align: right;\">\n",
       "      <th></th>\n",
       "      <th>key</th>\n",
       "      <th>value</th>\n",
       "    </tr>\n",
       "  </thead>\n",
       "  <tbody>\n",
       "    <tr>\n",
       "      <th>0</th>\n",
       "      <td>cv</td>\n",
       "      <td>False</td>\n",
       "    </tr>\n",
       "    <tr>\n",
       "      <th>1</th>\n",
       "      <td>data_cleaner_args</td>\n",
       "      <td>{'nan_chars': None, 'correct_object_dtype': Tr...</td>\n",
       "    </tr>\n",
       "    <tr>\n",
       "      <th>2</th>\n",
       "      <td>name</td>\n",
       "      <td>data_clean</td>\n",
       "    </tr>\n",
       "    <tr>\n",
       "      <th>3</th>\n",
       "      <td>train_test_split_strategy</td>\n",
       "      <td>None</td>\n",
       "    </tr>\n",
       "  </tbody>\n",
       "</table>\n",
       "</div>"
      ],
      "text/plain": [
       "                         key  \\\n",
       "0                         cv   \n",
       "1          data_cleaner_args   \n",
       "2                       name   \n",
       "3  train_test_split_strategy   \n",
       "\n",
       "                                               value  \n",
       "0                                              False  \n",
       "1  {'nan_chars': None, 'correct_object_dtype': Tr...  \n",
       "2                                         data_clean  \n",
       "3                                               None  "
      ]
     },
     "metadata": {},
     "output_type": "display_data"
    },
    {
     "data": {
      "text/markdown": [
       "### Fitted parameters"
      ]
     },
     "metadata": {},
     "output_type": "display_data"
    },
    {
     "data": {
      "text/html": [
       "<div>\n",
       "<style scoped>\n",
       "    .dataframe tbody tr th:only-of-type {\n",
       "        vertical-align: middle;\n",
       "    }\n",
       "\n",
       "    .dataframe tbody tr th {\n",
       "        vertical-align: top;\n",
       "    }\n",
       "\n",
       "    .dataframe thead th {\n",
       "        text-align: right;\n",
       "    }\n",
       "</style>\n",
       "<table border=\"1\" class=\"dataframe\">\n",
       "  <thead>\n",
       "    <tr style=\"text-align: right;\">\n",
       "      <th></th>\n",
       "      <th>key</th>\n",
       "      <th>value</th>\n",
       "    </tr>\n",
       "  </thead>\n",
       "  <tbody>\n",
       "    <tr>\n",
       "      <th>0</th>\n",
       "      <td>input_features</td>\n",
       "      <td>[gender, age, debt, married, industry, ethnici...</td>\n",
       "    </tr>\n",
       "    <tr>\n",
       "      <th>1</th>\n",
       "      <td>selected_features</td>\n",
       "      <td>[gender, age, debt, married, industry, ethnici...</td>\n",
       "    </tr>\n",
       "    <tr>\n",
       "      <th>2</th>\n",
       "      <td>unselected_features</td>\n",
       "      <td>[]</td>\n",
       "    </tr>\n",
       "    <tr>\n",
       "      <th>3</th>\n",
       "      <td>X_train.shape</td>\n",
       "      <td>(552, 14)</td>\n",
       "    </tr>\n",
       "    <tr>\n",
       "      <th>4</th>\n",
       "      <td>y_train.shape</td>\n",
       "      <td>(552,)</td>\n",
       "    </tr>\n",
       "    <tr>\n",
       "      <th>5</th>\n",
       "      <td>X_eval.shape</td>\n",
       "      <td>(138, 14)</td>\n",
       "    </tr>\n",
       "    <tr>\n",
       "      <th>6</th>\n",
       "      <td>y_eval.shape</td>\n",
       "      <td>(138,)</td>\n",
       "    </tr>\n",
       "    <tr>\n",
       "      <th>7</th>\n",
       "      <td>X_test.shape</td>\n",
       "      <td>None</td>\n",
       "    </tr>\n",
       "    <tr>\n",
       "      <th>8</th>\n",
       "      <td>unselected_reason</td>\n",
       "      <td>{}</td>\n",
       "    </tr>\n",
       "    <tr>\n",
       "      <th>9</th>\n",
       "      <td>kept/dropped feature count</td>\n",
       "      <td>14/0</td>\n",
       "    </tr>\n",
       "  </tbody>\n",
       "</table>\n",
       "</div>"
      ],
      "text/plain": [
       "                          key  \\\n",
       "0              input_features   \n",
       "1           selected_features   \n",
       "2         unselected_features   \n",
       "3               X_train.shape   \n",
       "4               y_train.shape   \n",
       "5                X_eval.shape   \n",
       "6                y_eval.shape   \n",
       "7                X_test.shape   \n",
       "8           unselected_reason   \n",
       "9  kept/dropped feature count   \n",
       "\n",
       "                                               value  \n",
       "0  [gender, age, debt, married, industry, ethnici...  \n",
       "1  [gender, age, debt, married, industry, ethnici...  \n",
       "2                                                 []  \n",
       "3                                          (552, 14)  \n",
       "4                                             (552,)  \n",
       "5                                          (138, 14)  \n",
       "6                                             (138,)  \n",
       "7                                               None  \n",
       "8                                                 {}  \n",
       "9                                               14/0  "
      ]
     },
     "metadata": {},
     "output_type": "display_data"
    },
    {
     "data": {
      "text/markdown": [
       "### Elapsed"
      ]
     },
     "metadata": {},
     "output_type": "display_data"
    },
    {
     "data": {
      "text/markdown": [
       "* 0.037 seconds"
      ]
     },
     "metadata": {},
     "output_type": "display_data"
    },
    {
     "data": {
      "text/markdown": [
       "## Space Searching"
      ]
     },
     "metadata": {},
     "output_type": "display_data"
    },
    {
     "data": {
      "text/markdown": [
       "### Initliazed parameters"
      ]
     },
     "metadata": {},
     "output_type": "display_data"
    },
    {
     "data": {
      "text/html": [
       "<div>\n",
       "<style scoped>\n",
       "    .dataframe tbody tr th:only-of-type {\n",
       "        vertical-align: middle;\n",
       "    }\n",
       "\n",
       "    .dataframe tbody tr th {\n",
       "        vertical-align: top;\n",
       "    }\n",
       "\n",
       "    .dataframe thead th {\n",
       "        text-align: right;\n",
       "    }\n",
       "</style>\n",
       "<table border=\"1\" class=\"dataframe\">\n",
       "  <thead>\n",
       "    <tr style=\"text-align: right;\">\n",
       "      <th></th>\n",
       "      <th>key</th>\n",
       "      <th>value</th>\n",
       "    </tr>\n",
       "  </thead>\n",
       "  <tbody>\n",
       "    <tr>\n",
       "      <th>0</th>\n",
       "      <td>cv</td>\n",
       "      <td>False</td>\n",
       "    </tr>\n",
       "    <tr>\n",
       "      <th>1</th>\n",
       "      <td>name</td>\n",
       "      <td>space_searching</td>\n",
       "    </tr>\n",
       "    <tr>\n",
       "      <th>2</th>\n",
       "      <td>num_folds</td>\n",
       "      <td>3</td>\n",
       "    </tr>\n",
       "  </tbody>\n",
       "</table>\n",
       "</div>"
      ],
      "text/plain": [
       "         key            value\n",
       "0         cv            False\n",
       "1       name  space_searching\n",
       "2  num_folds                3"
      ]
     },
     "metadata": {},
     "output_type": "display_data"
    },
    {
     "data": {
      "text/markdown": [
       "#### Experiment Settings:"
      ]
     },
     "metadata": {},
     "output_type": "display_data"
    },
    {
     "data": {
      "text/plain": [
       "HyperGBM(searcher=EvolutionSearcher(space_fn=GeneralSearchSpaceGenerator(kwargs=None, n_estimators=200, verbose=2), population_size=30, sample_size=10, regularized=True, optimize_direction='max', random_state=RandomState(MT19937) at 0x12F4F7E40), callbacks=[EarlyStoppingCallback(max_no_improvement_trials=10, mode='max', time_limit=3599.9527337551117), NotebookCallback(), ProgressiveCallback(), FitCrossValidationCallback()], reward_metric='auc', task='binary', discriminator=OncePercentileDiscriminator(percentile=50, history=TrialHistory(direction='max'), optimize_direction='max'))"
      ]
     },
     "metadata": {},
     "output_type": "display_data"
    },
    {
     "data": {
      "text/html": [
       "<div>\n",
       "<style scoped>\n",
       "    .dataframe tbody tr th:only-of-type {\n",
       "        vertical-align: middle;\n",
       "    }\n",
       "\n",
       "    .dataframe tbody tr th {\n",
       "        vertical-align: top;\n",
       "    }\n",
       "\n",
       "    .dataframe thead th {\n",
       "        text-align: right;\n",
       "    }\n",
       "</style>\n",
       "<table border=\"1\" class=\"dataframe\">\n",
       "  <thead>\n",
       "    <tr style=\"text-align: right;\">\n",
       "      <th></th>\n",
       "      <th>X</th>\n",
       "      <th>y</th>\n",
       "      <th>X_eval</th>\n",
       "      <th>y_eval</th>\n",
       "      <th>cv</th>\n",
       "      <th>num_folds</th>\n",
       "      <th>max_trials</th>\n",
       "      <th>fit_kwargs</th>\n",
       "    </tr>\n",
       "  </thead>\n",
       "  <tbody>\n",
       "    <tr>\n",
       "      <th>0</th>\n",
       "      <td>(552, 14)</td>\n",
       "      <td>(552,)</td>\n",
       "      <td>(138, 14)</td>\n",
       "      <td>(138,)</td>\n",
       "      <td>False</td>\n",
       "      <td>3</td>\n",
       "      <td>20</td>\n",
       "      <td>(verbose, eval_set)</td>\n",
       "    </tr>\n",
       "  </tbody>\n",
       "</table>\n",
       "</div>"
      ],
      "text/plain": [
       "           X       y     X_eval  y_eval     cv  num_folds  max_trials  \\\n",
       "0  (552, 14)  (552,)  (138, 14)  (138,)  False          3          20   \n",
       "\n",
       "            fit_kwargs  \n",
       "0  (verbose, eval_set)  "
      ]
     },
     "metadata": {},
     "output_type": "display_data"
    },
    {
     "data": {
      "text/markdown": [
       "#### Trials Summary:"
      ]
     },
     "metadata": {},
     "output_type": "display_data"
    },
    {
     "data": {
      "text/html": [
       "<div>\n",
       "<style scoped>\n",
       "    .dataframe tbody tr th:only-of-type {\n",
       "        vertical-align: middle;\n",
       "    }\n",
       "\n",
       "    .dataframe tbody tr th {\n",
       "        vertical-align: top;\n",
       "    }\n",
       "\n",
       "    .dataframe thead th {\n",
       "        text-align: right;\n",
       "    }\n",
       "</style>\n",
       "<table border=\"1\" class=\"dataframe\">\n",
       "  <thead>\n",
       "    <tr style=\"text-align: right;\">\n",
       "      <th></th>\n",
       "      <th>Trial No.</th>\n",
       "      <th>Previous reward</th>\n",
       "      <th>Best trial</th>\n",
       "      <th>Best reward</th>\n",
       "      <th>Total elapsed</th>\n",
       "      <th>Valid trials</th>\n",
       "      <th>Max trials</th>\n",
       "    </tr>\n",
       "  </thead>\n",
       "  <tbody>\n",
       "    <tr>\n",
       "      <th>0</th>\n",
       "      <td>20</td>\n",
       "      <td>0.920168</td>\n",
       "      <td>16</td>\n",
       "      <td>[0.9372899159663866]</td>\n",
       "      <td>10.173392</td>\n",
       "      <td>20</td>\n",
       "      <td>20</td>\n",
       "    </tr>\n",
       "  </tbody>\n",
       "</table>\n",
       "</div>"
      ],
      "text/plain": [
       "   Trial No.  Previous reward  Best trial           Best reward  \\\n",
       "0         20         0.920168          16  [0.9372899159663866]   \n",
       "\n",
       "   Total elapsed  Valid trials  Max trials  \n",
       "0      10.173392            20          20  "
      ]
     },
     "metadata": {},
     "output_type": "display_data"
    },
    {
     "data": {
      "text/markdown": [
       "#### Best Trial:"
      ]
     },
     "metadata": {},
     "output_type": "display_data"
    },
    {
     "data": {
      "text/html": [
       "<table border=\"1\" class=\"dataframe\">\n",
       "<thead>\n",
       "<tr style=\"text-align: right;\">\n",
       "  <th>key</th>\n",
       "  <th>value</th>\n",
       "</tr>\n",
       "</thead>\n",
       "<tbody><tr>\n",
       "  <td>signature</td>\n",
       "  <td>07eb114c3cebfac1fa1af984886326ec</td>\n",
       "</tr>\n",
       "<tr>\n",
       "  <td>vectors</td>\n",
       "  <td>[2, 2, 4, 3, 0, 2]</td>\n",
       "</tr><tr>\n",
       "  <td>0-estimator_options.hp_or</td>\n",
       "  <td>2</td>\n",
       "</tr>\n",
       "<tr><tr>\n",
       "  <td>1-numeric_imputer_0.strategy</td>\n",
       "  <td>constant</td>\n",
       "</tr>\n",
       "<tr><tr>\n",
       "  <td>2-numeric_or_scaler_0.hp_or</td>\n",
       "  <td>4</td>\n",
       "</tr>\n",
       "<tr><tr>\n",
       "  <td>3-Module_CatBoostEstimator_1.learning_rate</td>\n",
       "  <td>0.1</td>\n",
       "</tr>\n",
       "<tr><tr>\n",
       "  <td>4-Module_CatBoostEstimator_1.depth</td>\n",
       "  <td>3</td>\n",
       "</tr>\n",
       "<tr><tr>\n",
       "  <td>5-Module_CatBoostEstimator_1.l2_leaf_reg</td>\n",
       "  <td>10</td>\n",
       "</tr>\n",
       "<tr>  </tbody>\n",
       "</table>\n",
       "</div>"
      ],
      "text/plain": [
       "DAG_HyperSpace_1"
      ]
     },
     "metadata": {},
     "output_type": "display_data"
    },
    {
     "data": {
      "text/markdown": [
       "#### Top trials:"
      ]
     },
     "metadata": {},
     "output_type": "display_data"
    },
    {
     "data": {
      "text/html": [
       "<div>\n",
       "<style scoped>\n",
       "    .dataframe tbody tr th:only-of-type {\n",
       "        vertical-align: middle;\n",
       "    }\n",
       "\n",
       "    .dataframe tbody tr th {\n",
       "        vertical-align: top;\n",
       "    }\n",
       "\n",
       "    .dataframe thead th {\n",
       "        text-align: right;\n",
       "    }\n",
       "</style>\n",
       "<table border=\"1\" class=\"dataframe\">\n",
       "  <thead>\n",
       "    <tr style=\"text-align: right;\">\n",
       "      <th></th>\n",
       "      <th>Trial No.</th>\n",
       "      <th>Reward</th>\n",
       "      <th>Elapsed</th>\n",
       "      <th>Space Vector</th>\n",
       "    </tr>\n",
       "  </thead>\n",
       "  <tbody>\n",
       "    <tr>\n",
       "      <th>0</th>\n",
       "      <td>16</td>\n",
       "      <td>[0.9372899159663866]</td>\n",
       "      <td>0.373872</td>\n",
       "      <td>[2, 2, 4, 3, 0, 2]</td>\n",
       "    </tr>\n",
       "    <tr>\n",
       "      <th>1</th>\n",
       "      <td>10</td>\n",
       "      <td>[0.9213235294117648]</td>\n",
       "      <td>0.372548</td>\n",
       "      <td>[1, 0, 3, 3, 3, 4, 0, 4, 4]</td>\n",
       "    </tr>\n",
       "    <tr>\n",
       "      <th>2</th>\n",
       "      <td>1</td>\n",
       "      <td>[0.921218487394958]</td>\n",
       "      <td>0.408435</td>\n",
       "      <td>[2, 2, 4, 0, 2, 1]</td>\n",
       "    </tr>\n",
       "    <tr>\n",
       "      <th>3</th>\n",
       "      <td>15</td>\n",
       "      <td>[0.9205882352941177]</td>\n",
       "      <td>0.346407</td>\n",
       "      <td>[1, 3, 4, 2, 2, 0, 0, 3, 4]</td>\n",
       "    </tr>\n",
       "    <tr>\n",
       "      <th>4</th>\n",
       "      <td>20</td>\n",
       "      <td>[0.9201680672268907]</td>\n",
       "      <td>0.385564</td>\n",
       "      <td>[0, 2, 1, 2, 330, 1, 3, 0, 3]</td>\n",
       "    </tr>\n",
       "  </tbody>\n",
       "</table>\n",
       "</div>"
      ],
      "text/plain": [
       "   Trial No.                Reward   Elapsed                   Space Vector\n",
       "0         16  [0.9372899159663866]  0.373872             [2, 2, 4, 3, 0, 2]\n",
       "1         10  [0.9213235294117648]  0.372548    [1, 0, 3, 3, 3, 4, 0, 4, 4]\n",
       "2          1   [0.921218487394958]  0.408435             [2, 2, 4, 0, 2, 1]\n",
       "3         15  [0.9205882352941177]  0.346407    [1, 3, 4, 2, 2, 0, 0, 3, 4]\n",
       "4         20  [0.9201680672268907]  0.385564  [0, 2, 1, 2, 330, 1, 3, 0, 3]"
      ]
     },
     "metadata": {},
     "output_type": "display_data"
    },
    {
     "name": "stderr",
     "output_type": "stream",
     "text": [
      "                                                                                \r"
     ]
    },
    {
     "data": {
      "text/markdown": [
       "### Fitted parameters"
      ]
     },
     "metadata": {},
     "output_type": "display_data"
    },
    {
     "data": {
      "text/html": [
       "<div>\n",
       "<style scoped>\n",
       "    .dataframe tbody tr th:only-of-type {\n",
       "        vertical-align: middle;\n",
       "    }\n",
       "\n",
       "    .dataframe tbody tr th {\n",
       "        vertical-align: top;\n",
       "    }\n",
       "\n",
       "    .dataframe thead th {\n",
       "        text-align: right;\n",
       "    }\n",
       "</style>\n",
       "<table border=\"1\" class=\"dataframe\">\n",
       "  <thead>\n",
       "    <tr style=\"text-align: right;\">\n",
       "      <th></th>\n",
       "      <th>key</th>\n",
       "      <th>value</th>\n",
       "    </tr>\n",
       "  </thead>\n",
       "  <tbody>\n",
       "    <tr>\n",
       "      <th>0</th>\n",
       "      <td>input_features</td>\n",
       "      <td>[gender, age, debt, married, industry, ethnici...</td>\n",
       "    </tr>\n",
       "    <tr>\n",
       "      <th>1</th>\n",
       "      <td>best_reward</td>\n",
       "      <td>[0.9372899159663866]</td>\n",
       "    </tr>\n",
       "    <tr>\n",
       "      <th>2</th>\n",
       "      <td>history</td>\n",
       "      <td>TrialHistory(direction='max', size=20, succeed...</td>\n",
       "    </tr>\n",
       "  </tbody>\n",
       "</table>\n",
       "</div>"
      ],
      "text/plain": [
       "              key                                              value\n",
       "0  input_features  [gender, age, debt, married, industry, ethnici...\n",
       "1     best_reward                               [0.9372899159663866]\n",
       "2         history  TrialHistory(direction='max', size=20, succeed..."
      ]
     },
     "metadata": {},
     "output_type": "display_data"
    },
    {
     "data": {
      "text/markdown": [
       "### Elapsed"
      ]
     },
     "metadata": {},
     "output_type": "display_data"
    },
    {
     "data": {
      "text/markdown": [
       "* 10.219 seconds"
      ]
     },
     "metadata": {},
     "output_type": "display_data"
    },
    {
     "data": {
      "text/markdown": [
       "## Final Ensemble"
      ]
     },
     "metadata": {},
     "output_type": "display_data"
    },
    {
     "data": {
      "text/markdown": [
       "### Initliazed parameters"
      ]
     },
     "metadata": {},
     "output_type": "display_data"
    },
    {
     "data": {
      "text/html": [
       "<div>\n",
       "<style scoped>\n",
       "    .dataframe tbody tr th:only-of-type {\n",
       "        vertical-align: middle;\n",
       "    }\n",
       "\n",
       "    .dataframe tbody tr th {\n",
       "        vertical-align: top;\n",
       "    }\n",
       "\n",
       "    .dataframe thead th {\n",
       "        text-align: right;\n",
       "    }\n",
       "</style>\n",
       "<table border=\"1\" class=\"dataframe\">\n",
       "  <thead>\n",
       "    <tr style=\"text-align: right;\">\n",
       "      <th></th>\n",
       "      <th>key</th>\n",
       "      <th>value</th>\n",
       "    </tr>\n",
       "  </thead>\n",
       "  <tbody>\n",
       "    <tr>\n",
       "      <th>0</th>\n",
       "      <td>ensemble_size</td>\n",
       "      <td>20</td>\n",
       "    </tr>\n",
       "    <tr>\n",
       "      <th>1</th>\n",
       "      <td>name</td>\n",
       "      <td>final_ensemble</td>\n",
       "    </tr>\n",
       "    <tr>\n",
       "      <th>2</th>\n",
       "      <td>scorer</td>\n",
       "      <td>make_scorer(roc_auc_score, response_method='pr...</td>\n",
       "    </tr>\n",
       "  </tbody>\n",
       "</table>\n",
       "</div>"
      ],
      "text/plain": [
       "             key                                              value\n",
       "0  ensemble_size                                                 20\n",
       "1           name                                     final_ensemble\n",
       "2         scorer  make_scorer(roc_auc_score, response_method='pr..."
      ]
     },
     "metadata": {},
     "output_type": "display_data"
    },
    {
     "data": {
      "text/markdown": [
       "### Fitted parameters"
      ]
     },
     "metadata": {},
     "output_type": "display_data"
    },
    {
     "data": {
      "text/html": [
       "<div>\n",
       "<style scoped>\n",
       "    .dataframe tbody tr th:only-of-type {\n",
       "        vertical-align: middle;\n",
       "    }\n",
       "\n",
       "    .dataframe tbody tr th {\n",
       "        vertical-align: top;\n",
       "    }\n",
       "\n",
       "    .dataframe thead th {\n",
       "        text-align: right;\n",
       "    }\n",
       "</style>\n",
       "<table border=\"1\" class=\"dataframe\">\n",
       "  <thead>\n",
       "    <tr style=\"text-align: right;\">\n",
       "      <th></th>\n",
       "      <th>0</th>\n",
       "      <th>1</th>\n",
       "    </tr>\n",
       "  </thead>\n",
       "  <tbody>\n",
       "    <tr>\n",
       "      <th>0</th>\n",
       "      <td>weights</td>\n",
       "      <td>[0.25, 0.05, 0.35, 0.0, 0.0, 0.0, 0.0, 0.0, 0....</td>\n",
       "    </tr>\n",
       "    <tr>\n",
       "      <th>1</th>\n",
       "      <td>scores</td>\n",
       "      <td>[0.9372899159663866, 0.9378151260504202, 0.938...</td>\n",
       "    </tr>\n",
       "    <tr>\n",
       "      <th>2</th>\n",
       "      <td>best_stack</td>\n",
       "      <td>[0, 2, 13, 12, 12, 12, 0, 2, 2, 12, 0, 2, 2, 0...</td>\n",
       "    </tr>\n",
       "    <tr>\n",
       "      <th>3</th>\n",
       "      <td>hits</td>\n",
       "      <td>{0: 5, 2: 7, 13: 1, 12: 5, 1: 1, 10: 1}</td>\n",
       "    </tr>\n",
       "    <tr>\n",
       "      <th>4</th>\n",
       "      <td>ensemble_size</td>\n",
       "      <td>20</td>\n",
       "    </tr>\n",
       "  </tbody>\n",
       "</table>\n",
       "</div>"
      ],
      "text/plain": [
       "GreedyEnsemble(weight=[0.25, 0.05, 0.35, 0.0, 0.0, 0.0, 0.0, 0.0, 0.0, 0.0, 0.05, 0.0, 0.25, 0.05, 0.0, 0.0, 0.0, 0.0, 0.0, 0.0], scores=[0.9372899159663866, 0.9378151260504202, 0.9380252100840336, 0.9380252100840336, 0.9380252100840336, 0.9380252100840336, 0.9380252100840336, 0.9380252100840336, 0.9380252100840336, 0.9380252100840336, 0.9380252100840336, 0.9380252100840336, 0.9380252100840336, 0.9380252100840336, 0.9380252100840336, 0.9380252100840336, 0.9380252100840336, 0.9380252100840336, 0.9380252100840336, 0.9380252100840336])"
      ]
     },
     "metadata": {},
     "output_type": "display_data"
    },
    {
     "data": {
      "text/markdown": [
       "### Elapsed"
      ]
     },
     "metadata": {},
     "output_type": "display_data"
    },
    {
     "data": {
      "text/markdown": [
       "* 4.972 seconds"
      ]
     },
     "metadata": {},
     "output_type": "display_data"
    }
   ],
   "source": [
    "train_data = pd.concat([X_train, y_train], axis=1)\n",
    "test_data = pd.concat([X_test, y_test], axis=1)\n",
    "\n",
    "# Create and run a HyperGBM experiment with hyperparameter tuning\n",
    "experiment = make_experiment(train_data,\n",
    "                             target='approved',\n",
    "                             eval_data=test_data,\n",
    "                             max_trials=20,\n",
    "                             reward_metric='auc',\n",
    "                             random_state=42,verbose=2)\n",
    "\n",
    "hyper_model = experiment.run()\n",
    "\n",
    "y_train_pred = hyper_model.predict_proba(X_train)[:, 1]\n",
    "y_test_pred = hyper_model.predict_proba(X_test)[:, 1]"
   ]
  },
  {
   "cell_type": "code",
   "execution_count": 10,
   "metadata": {},
   "outputs": [
    {
     "name": "stdout",
     "output_type": "stream",
     "text": [
      "0.9609269305471838\n",
      "0.9380252100840336\n"
     ]
    }
   ],
   "source": [
    "print(roc_auc_score(y_train, y_train_pred))\n",
    "print(roc_auc_score(y_test, y_test_pred))"
   ]
  },
  {
   "cell_type": "code",
   "execution_count": 11,
   "metadata": {},
   "outputs": [
    {
     "data": {
      "image/png": "[encoded data removed]",
      "text/plain": [
       "<Figure size 640x480 with 1 Axes>"
      ]
     },
     "metadata": {},
     "output_type": "display_data"
    }
   ],
   "source": [
    "# Plot ROC curve\n",
    "fpr, tpr, thresholds = roc_curve(y_test, y_test_pred)\n",
    "roc_auc = auc(fpr, tpr)\n",
    "plt.figure()\n",
    "plt.plot(fpr, tpr, color='darkorange', lw=2, label='ROC curve (area = %0.2f)' % roc_auc)\n",
    "plt.plot([0, 1], [0, 1], color='navy', lw=2, linestyle='--')\n",
    "plt.xlim([0.0, 1.0])\n",
    "plt.ylim([0.0, 1.05])\n",
    "plt.xlabel('False Positive Rate')\n",
    "plt.ylabel('True Positive Rate')\n",
    "plt.title('Receiver Operating Characteristic')\n",
    "plt.legend(loc=\"lower right\")\n",
    "plt.show()"
   ]
  },
  {
   "cell_type": "markdown",
   "metadata": {},
   "source": [
    "# Other Models for Experiment"
   ]
  },
  {
   "cell_type": "markdown",
   "metadata": {},
   "source": [
    "## Logistic Regression"
   ]
  },
  {
   "cell_type": "code",
   "execution_count": 12,
   "metadata": {},
   "outputs": [
    {
     "name": "stdout",
     "output_type": "stream",
     "text": [
      "[]\n",
      "['bankcustomer']\n"
     ]
    }
   ],
   "source": [
    "df_lg = pd.read_csv(\"clean_dataset.csv\")\n",
    "df_lg.columns = df_lg.columns.str.lower().str.replace(' ', '_').str.replace('-', '_')\n",
    "\n",
    "vc = df_lg[\"zipcode\"].value_counts()\n",
    "df_lg.loc[df_lg.zipcode != 0, \"zipcode\"] = 1\n",
    "bins = [0, 18, 25, 35, 45, 55, 65, 100]\n",
    "labels = ['0-18', '19-25', '26-35', '36-45', '46-55', '56-65', '65+']\n",
    "df_lg['age'] = pd.cut(df_lg['age'], bins=bins, labels=labels, right=False)\n",
    "\n",
    "age_group_encoder = OrdinalEncoder()\n",
    "df_lg['age'] = age_group_encoder.fit_transform(df_lg[['age']])\n",
    "\n",
    "# Drop columns with unique values equal to the number of observations\n",
    "df_unique = df_lg.nunique().sort_values(ascending=False)\n",
    "drop_cols = df_unique[df_unique.values == df_lg.shape[0]].index.tolist()\n",
    "df_lg = df_lg.drop(columns=drop_cols)\n",
    "\n",
    "# Check for duplicate observations and drop them\n",
    "num_duplicates = df_lg.duplicated().sum()\n",
    "df_lg = df_lg.drop_duplicates()\n",
    "# Encode the target variable\n",
    "le = LabelEncoder()\n",
    "df_lg[\"approved\"] = le.fit_transform(df_lg[\"approved\"])\n",
    "\n",
    "# Define target and features\n",
    "X_lg = df_lg.drop(\"approved\", axis=1)\n",
    "y_lg = df_lg[\"approved\"]\n",
    "\n",
    "# Split the dataset into training and testing sets\n",
    "X_train_lg, X_test_lg, y_train_lg, y_test_lg = train_test_split(X_lg, y_lg, test_size=0.2, random_state=42)\n",
    "\n",
    "\n",
    "# Identify categorical features for target encoding\n",
    "target_encode_features = [\"industry\", \"ethnicity\", \"citizen\"]\n",
    "\n",
    "# Apply target encoding to categorical features\n",
    "target_encoder = TargetEncoder(cols=target_encode_features)\n",
    "X_train_lg[target_encode_features] = target_encoder.fit_transform(X_train_lg[target_encode_features], y_train_lg)\n",
    "X_test_lg[target_encode_features] = target_encoder.transform(X_test_lg[target_encode_features])\n",
    "\n",
    "\n",
    "# Apply LabelEncoder to binary categorical features\n",
    "binary_categorical_features = [\"gender\", \"married\", \"bankcustomer\", \"employed\", \"driverslicense\"]\n",
    "le = LabelEncoder()\n",
    "for feature in binary_categorical_features:\n",
    "    X_train_lg[feature] = le.fit_transform(X_train_lg[feature])\n",
    "    X_test_lg[feature] = le.transform(X_test_lg[feature])\n",
    "\n",
    "\n",
    "# Calculate correlation matrix\n",
    "# Apply mask to keep only the upper triangle (exclude the diagonal as well)\n",
    "# Flatten the matrix and mask to pairs and their correlations\n",
    "# Filter for highly correlated pairs (e.g., |correlation| > 0.8)\n",
    "corr_threshold = 0.8\n",
    "corr_matrix = X_train_lg.corr()\n",
    "mask = np.triu(np.ones_like(corr_matrix, dtype=bool), k=1)\n",
    "corr_pairs = corr_matrix.where(mask).stack()\n",
    "highly_corr_pairs = corr_pairs[abs(corr_pairs) > corr_threshold].reset_index()\n",
    "col_freq = highly_corr_pairs['level_0'].value_counts()\n",
    "cols_drop = col_freq[col_freq.values > 1].index.tolist()\n",
    "print(cols_drop)\n",
    "if cols_drop:\n",
    "    X_train_lg = X_train_lg.drop(cols_drop, axis=1)\n",
    "    X_test_lg = X_test_lg.drop(cols_drop, axis=1)\n",
    "\n",
    "corr_matrix = X_train_lg.corr()\n",
    "mask = np.triu(np.ones_like(corr_matrix, dtype=bool), k=1)\n",
    "corr_pairs = corr_matrix.where(mask).stack()\n",
    "highly_corr_pairs = corr_pairs[abs(corr_pairs) > corr_threshold].reset_index()\n",
    "cols_drop = highly_corr_pairs['level_1'].tolist()\n",
    "if cols_drop:\n",
    "    X_train_lg = X_train_lg.drop(cols_drop, axis=1)\n",
    "    X_test_lg = X_test_lg.drop(cols_drop, axis=1)\n",
    "print(cols_drop)\n",
    "\n",
    "# Standardize the features for logistic regression\n",
    "logistic_scaler = StandardScaler()\n",
    "X_train_scaled_lg = logistic_scaler.fit_transform(X_train_lg)\n",
    "X_train_scaled_lg = pd.DataFrame(X_train_scaled_lg, columns=X_train_lg.columns)\n",
    "\n",
    "X_test_scaled_lg = logistic_scaler.transform(X_test_lg)\n",
    "X_test_scaled_lg = pd.DataFrame(X_test_scaled_lg, columns=X_test_lg.columns)\n"
   ]
  },
  {
   "cell_type": "code",
   "execution_count": 13,
   "metadata": {
    "colab": {
     "base_uri": "https://localhost:8080/",
     "height": 134
    },
    "id": "YUMlLxPkbvyR",
    "outputId": "8377fdb2-528a-4163-9fa6-6cccf453bc76"
   },
   "outputs": [
    {
     "name": "stdout",
     "output_type": "stream",
     "text": [
      "Fitting 5 folds for each of 324 candidates, totalling 1620 fits\n",
      "{'C': 1, 'class_weight': 'balanced', 'fit_intercept': False, 'max_iter': 1000, 'penalty': 'l1', 'solver': 'liblinear'}\n",
      "{'C': 0.05, 'class_weight': 'balanced', 'fit_intercept': False, 'max_iter': 1000, 'penalty': 'l1', 'solver': 'liblinear'}\n"
     ]
    }
   ],
   "source": [
    "\n",
    "# GridSearch\n",
    "logistic_param_grid = {\n",
    "    'C': [0.001, 0.05, 0.1, 0.2, 0.3, 1],  # Regularization strength\n",
    "    'solver': ['liblinear', 'lbfgs', 'saga'],\n",
    "    'penalty': ['l1', 'l2', 'elasticnet'],\n",
    "    'max_iter': [1000, 10000, None],\n",
    "    'fit_intercept': [True, False],\n",
    "    'class_weight': ['balanced']\n",
    "}\n",
    "\n",
    "logistic_model = LogisticRegression()\n",
    "# Configure and run the grid search\n",
    "logistic_grid_search = GridSearchCV(logistic_model, logistic_param_grid, cv=5, verbose=1, n_jobs=-1, scoring=\"roc_auc\")\n",
    "logistic_grid_search.fit(X_train_scaled_lg, y_train_lg)\n",
    "\n",
    "print(logistic_grid_search.best_params_)\n",
    "logistic_grid_search.best_params_[\"C\"] = 0.05\n",
    "print(logistic_grid_search.best_params_)\n",
    "# Run logistic regression with the best parameters\n",
    "logistic_model = LogisticRegression(random_state=42, **logistic_grid_search.best_params_)\n",
    "logistic_model.fit(X_train_scaled_lg, y_train_lg)\n",
    "\n",
    "train_probs = logistic_model.predict_proba(X_train_scaled_lg)[:, 1]  # Probabilities for the training set\n",
    "test_probs = logistic_model.predict_proba(X_test_scaled_lg)[:, 1]    # Probabilities for the testing set\n",
    "\n",
    "\n"
   ]
  },
  {
   "cell_type": "code",
   "execution_count": 14,
   "metadata": {
    "colab": {
     "base_uri": "https://localhost:8080/"
    },
    "id": "oiOrD6wGCpwM",
    "outputId": "10bc5ec7-fa7c-428f-d04b-cfea87f58803"
   },
   "outputs": [
    {
     "name": "stdout",
     "output_type": "stream",
     "text": [
      "Train AUC: 0.939\n",
      "Test AUC: 0.912\n"
     ]
    }
   ],
   "source": [
    "# Calculate ROC AUC scores\n",
    "logistic_train_auc = roc_auc_score(y_train_lg, train_probs)\n",
    "logistic_test_auc = roc_auc_score(y_test_lg, test_probs)\n",
    "print(\"Train AUC:\", round(logistic_train_auc, 3))\n",
    "print(\"Test AUC:\", round(logistic_test_auc, 3))\n"
   ]
  },
  {
   "cell_type": "code",
   "execution_count": 15,
   "metadata": {
    "colab": {
     "base_uri": "https://localhost:8080/"
    },
    "id": "AnSc9baaqGeG",
    "outputId": "30dd4475-f551-453c-fb03-02377ff1b097"
   },
   "outputs": [
    {
     "data": {
      "text/html": [
       "<div>\n",
       "<style scoped>\n",
       "    .dataframe tbody tr th:only-of-type {\n",
       "        vertical-align: middle;\n",
       "    }\n",
       "\n",
       "    .dataframe tbody tr th {\n",
       "        vertical-align: top;\n",
       "    }\n",
       "\n",
       "    .dataframe thead th {\n",
       "        text-align: right;\n",
       "    }\n",
       "</style>\n",
       "<table border=\"1\" class=\"dataframe\">\n",
       "  <thead>\n",
       "    <tr style=\"text-align: right;\">\n",
       "      <th></th>\n",
       "      <th>columns_</th>\n",
       "      <th>coefs</th>\n",
       "    </tr>\n",
       "  </thead>\n",
       "  <tbody>\n",
       "    <tr>\n",
       "      <th>0</th>\n",
       "      <td>priordefault</td>\n",
       "      <td>1.403645</td>\n",
       "    </tr>\n",
       "    <tr>\n",
       "      <th>1</th>\n",
       "      <td>industry</td>\n",
       "      <td>0.347745</td>\n",
       "    </tr>\n",
       "    <tr>\n",
       "      <th>2</th>\n",
       "      <td>creditscore</td>\n",
       "      <td>0.230404</td>\n",
       "    </tr>\n",
       "    <tr>\n",
       "      <th>3</th>\n",
       "      <td>employed</td>\n",
       "      <td>0.199006</td>\n",
       "    </tr>\n",
       "    <tr>\n",
       "      <th>4</th>\n",
       "      <td>income</td>\n",
       "      <td>0.151257</td>\n",
       "    </tr>\n",
       "    <tr>\n",
       "      <th>5</th>\n",
       "      <td>age</td>\n",
       "      <td>0.007591</td>\n",
       "    </tr>\n",
       "    <tr>\n",
       "      <th>6</th>\n",
       "      <td>ethnicity</td>\n",
       "      <td>0.000000</td>\n",
       "    </tr>\n",
       "    <tr>\n",
       "      <th>7</th>\n",
       "      <td>married</td>\n",
       "      <td>0.000000</td>\n",
       "    </tr>\n",
       "    <tr>\n",
       "      <th>8</th>\n",
       "      <td>debt</td>\n",
       "      <td>0.000000</td>\n",
       "    </tr>\n",
       "    <tr>\n",
       "      <th>9</th>\n",
       "      <td>gender</td>\n",
       "      <td>0.000000</td>\n",
       "    </tr>\n",
       "    <tr>\n",
       "      <th>10</th>\n",
       "      <td>yearsemployed</td>\n",
       "      <td>0.000000</td>\n",
       "    </tr>\n",
       "    <tr>\n",
       "      <th>11</th>\n",
       "      <td>driverslicense</td>\n",
       "      <td>0.000000</td>\n",
       "    </tr>\n",
       "    <tr>\n",
       "      <th>12</th>\n",
       "      <td>citizen</td>\n",
       "      <td>0.000000</td>\n",
       "    </tr>\n",
       "    <tr>\n",
       "      <th>13</th>\n",
       "      <td>zipcode</td>\n",
       "      <td>-0.087349</td>\n",
       "    </tr>\n",
       "  </tbody>\n",
       "</table>\n",
       "</div>"
      ],
      "text/plain": [
       "          columns_     coefs\n",
       "0     priordefault  1.403645\n",
       "1         industry  0.347745\n",
       "2      creditscore  0.230404\n",
       "3         employed  0.199006\n",
       "4           income  0.151257\n",
       "5              age  0.007591\n",
       "6        ethnicity  0.000000\n",
       "7          married  0.000000\n",
       "8             debt  0.000000\n",
       "9           gender  0.000000\n",
       "10   yearsemployed  0.000000\n",
       "11  driverslicense  0.000000\n",
       "12         citizen  0.000000\n",
       "13         zipcode -0.087349"
      ]
     },
     "execution_count": 15,
     "metadata": {},
     "output_type": "execute_result"
    }
   ],
   "source": [
    "coefs_ = pd.DataFrame({\"columns_\":X_train_scaled_lg.columns, \"coefs\":logistic_model.coef_[0]}).sort_values(\"coefs\",ascending=False)\n",
    "coefs_.reset_index(drop=True)"
   ]
  },
  {
   "cell_type": "markdown",
   "metadata": {},
   "source": [
    "## Random Forest "
   ]
  },
  {
   "cell_type": "code",
   "execution_count": 16,
   "metadata": {
    "colab": {
     "base_uri": "https://localhost:8080/"
    },
    "id": "Xe3g_X1lLxvg",
    "outputId": "6ad533ab-bb26-4a91-c515-3a1c629031cb"
   },
   "outputs": [
    {
     "name": "stdout",
     "output_type": "stream",
     "text": [
      "Dropped columns with unique values: []\n"
     ]
    }
   ],
   "source": [
    "# Data processing for randomforest hypergbm\n",
    "df_rf = pd.read_csv(\"clean_dataset.csv\")\n",
    "\n",
    "df_rf.columns = df_rf.columns.str.lower().str.replace(' ', '_').str.replace('-', '_')\n",
    "\n",
    "# Drop columns with unique values equal to the number of observations\n",
    "df_rf_unique = df_rf.nunique().sort_values(ascending=False)\n",
    "drop_cols = df_rf_unique[df_rf_unique.values == df_rf.shape[0]].index.tolist()\n",
    "df_rf = df_rf.drop(columns=drop_cols)\n",
    "print(\"Dropped columns with unique values:\", drop_cols)\n",
    "\n",
    "\n",
    "df_rf.loc[df_rf.zipcode!=0,\"zipcode\"] = 1\n",
    "\n",
    "# Encode the target variable\n",
    "le = LabelEncoder()\n",
    "df_rf[\"approved\"] = le.fit_transform(df_rf[\"approved\"])\n",
    "\n",
    "# Define target and features\n",
    "X_rf = df_rf.drop(\"approved\", axis=1)\n",
    "y_rf = df_rf[\"approved\"]\n",
    "\n",
    "\n",
    "# Split the dataset into training and testing sets\n",
    "X_train_rf, X_test_rf, y_train_rf, y_test_rf = train_test_split(X_rf, y_rf, test_size=0.2, random_state=42)\n",
    "\n",
    "# Identify categorical features for target encoding\n",
    "target_encode_features_rf = [\"industry\", \"ethnicity\",\"citizen\"]\n",
    "\n",
    "# Apply target encoding to categorical features\n",
    "target_encoder_rf = TargetEncoder(cols=target_encode_features_rf)\n",
    "X_train_rf[target_encode_features] = target_encoder_rf.fit_transform(X_train_rf[target_encode_features_rf], y_train_rf)\n",
    "X_test_rf[target_encode_features] = target_encoder_rf.transform(X_test_rf[target_encode_features_rf])\n",
    "\n",
    "# Apply LabelEncoder to binary categorical features\n",
    "binary_categorical_features_rf = [\"gender\", \"married\", \"bankcustomer\", \"employed\", \"driverslicense\"]\n",
    "le = LabelEncoder()\n",
    "for feature in binary_categorical_features_rf:\n",
    "    X_train_rf[feature] = le.fit_transform(X_train_rf[feature])\n",
    "    X_test_rf[feature] = le.transform(X_test_rf[feature])\n",
    "\n",
    "\n",
    "# Calculate correlation matrix\n",
    "# Apply mask to keep only the upper triangle (exclude the diagonal as well)\n",
    "# Flatten the matrix and mask to pairs and their correlations\n",
    "# Filter for highly correlated pairs (e.g., |correlation| > 0.8)\n",
    "corr_threshold = 0.8\n",
    "corr_matrix = X_train_rf.corr()\n",
    "mask = np.triu(np.ones_like(corr_matrix, dtype=bool), k=1)\n",
    "corr_pairs = corr_matrix.where(mask).stack()\n",
    "highly_corr_pairs = corr_pairs[abs(corr_pairs) > corr_threshold].reset_index()\n",
    "col_freq = highly_corr_pairs['level_0'].value_counts()\n",
    "cols_drop = col_freq[col_freq.values > 1].index.tolist()\n",
    "if cols_drop:\n",
    "    X_train_rf = X_train_rf.drop(cols_drop, axis=1)\n",
    "    X_test_rf = X_test_rf.drop(cols_drop, axis=1)\n",
    "\n",
    "corr_matrix = X_train_rf.corr()\n",
    "mask = np.triu(np.ones_like(corr_matrix, dtype=bool), k=1)\n",
    "corr_pairs = corr_matrix.where(mask).stack()\n",
    "highly_corr_pairs = corr_pairs[abs(corr_pairs) > corr_threshold].reset_index()\n",
    "cols_drop = highly_corr_pairs['level_1'].tolist()\n",
    "if cols_drop:\n",
    "    X_train_rf = X_train_rf.drop(cols_drop, axis=1)\n",
    "    X_test_rf = X_test_rf.drop(cols_drop, axis=1)"
   ]
  },
  {
   "cell_type": "code",
   "execution_count": 17,
   "metadata": {
    "colab": {
     "base_uri": "https://localhost:8080/"
    },
    "id": "YlBT8BwmYC_g",
    "outputId": "1be1065a-e19b-4716-b195-442bc3ae84c9"
   },
   "outputs": [
    {
     "name": "stdout",
     "output_type": "stream",
     "text": [
      "Best estimator: RandomForestClassifier(class_weight='balanced', max_depth=1, n_estimators=40,\n",
      "                       random_state=23)\n",
      "Training AUC: 0.9334003080838523\n",
      "Testing AUC: 0.9038865546218487\n"
     ]
    }
   ],
   "source": [
    "rf_model = RandomForestClassifier(random_state=23, class_weight='balanced')\n",
    "\n",
    "# Set up the parameter grid\n",
    "dt_param_grid = {\n",
    "    'n_estimators':[40],# [10,30,50],#300\n",
    "    'max_depth': [1]\n",
    "}\n",
    "\n",
    "#[10,20]\n",
    "    # 'max_features': ['auto', 'sqrt', 'log2']\n",
    "# Set up GridSearchCV\n",
    "gs_dt = GridSearchCV(rf_model, param_grid=dt_param_grid, scoring='roc_auc')\n",
    "\n",
    "# Fit GridSearchCV\n",
    "gs_dt.fit(X_train_rf, y_train_rf)\n",
    "\n",
    "# Access the best estimator\n",
    "best_dt_estimator = gs_dt.best_estimator_\n",
    "print(\"Best estimator:\", best_dt_estimator)\n",
    "\n",
    "# Make predictions\n",
    "y_train_predicted = best_dt_estimator.predict(X_train_rf)\n",
    "y_test_predicted = best_dt_estimator.predict(X_test_rf)\n",
    "\n",
    "# Calculate and print AUC scores\n",
    "train_probs = best_dt_estimator.predict_proba(X_train_rf)[:, 1]\n",
    "test_probs = best_dt_estimator.predict_proba(X_test_rf)[:, 1]\n",
    "\n",
    "train_auc = roc_auc_score(y_train, train_probs)\n",
    "test_auc = roc_auc_score(y_test, test_probs)\n",
    "\n",
    "print(\"Training AUC:\", train_auc)\n",
    "print(\"Testing AUC:\", test_auc)"
   ]
  },
  {
   "cell_type": "code",
   "execution_count": 18,
   "metadata": {
    "colab": {
     "base_uri": "https://localhost:8080/",
     "height": 488
    },
    "id": "1isBWN8DbdJG",
    "outputId": "a539d467-5ea8-4ec9-d472-fefd033e318b"
   },
   "outputs": [
    {
     "data": {
      "text/html": [
       "<div>\n",
       "<style scoped>\n",
       "    .dataframe tbody tr th:only-of-type {\n",
       "        vertical-align: middle;\n",
       "    }\n",
       "\n",
       "    .dataframe tbody tr th {\n",
       "        vertical-align: top;\n",
       "    }\n",
       "\n",
       "    .dataframe thead th {\n",
       "        text-align: right;\n",
       "    }\n",
       "</style>\n",
       "<table border=\"1\" class=\"dataframe\">\n",
       "  <thead>\n",
       "    <tr style=\"text-align: right;\">\n",
       "      <th></th>\n",
       "      <th>columns_</th>\n",
       "      <th>importances</th>\n",
       "    </tr>\n",
       "  </thead>\n",
       "  <tbody>\n",
       "    <tr>\n",
       "      <th>0</th>\n",
       "      <td>industry</td>\n",
       "      <td>0.175</td>\n",
       "    </tr>\n",
       "    <tr>\n",
       "      <th>1</th>\n",
       "      <td>priordefault</td>\n",
       "      <td>0.175</td>\n",
       "    </tr>\n",
       "    <tr>\n",
       "      <th>2</th>\n",
       "      <td>income</td>\n",
       "      <td>0.150</td>\n",
       "    </tr>\n",
       "    <tr>\n",
       "      <th>3</th>\n",
       "      <td>creditscore</td>\n",
       "      <td>0.150</td>\n",
       "    </tr>\n",
       "    <tr>\n",
       "      <th>4</th>\n",
       "      <td>yearsemployed</td>\n",
       "      <td>0.150</td>\n",
       "    </tr>\n",
       "    <tr>\n",
       "      <th>5</th>\n",
       "      <td>employed</td>\n",
       "      <td>0.125</td>\n",
       "    </tr>\n",
       "    <tr>\n",
       "      <th>6</th>\n",
       "      <td>debt</td>\n",
       "      <td>0.050</td>\n",
       "    </tr>\n",
       "    <tr>\n",
       "      <th>7</th>\n",
       "      <td>married</td>\n",
       "      <td>0.025</td>\n",
       "    </tr>\n",
       "    <tr>\n",
       "      <th>8</th>\n",
       "      <td>gender</td>\n",
       "      <td>0.000</td>\n",
       "    </tr>\n",
       "    <tr>\n",
       "      <th>9</th>\n",
       "      <td>age</td>\n",
       "      <td>0.000</td>\n",
       "    </tr>\n",
       "    <tr>\n",
       "      <th>10</th>\n",
       "      <td>ethnicity</td>\n",
       "      <td>0.000</td>\n",
       "    </tr>\n",
       "    <tr>\n",
       "      <th>11</th>\n",
       "      <td>driverslicense</td>\n",
       "      <td>0.000</td>\n",
       "    </tr>\n",
       "    <tr>\n",
       "      <th>12</th>\n",
       "      <td>citizen</td>\n",
       "      <td>0.000</td>\n",
       "    </tr>\n",
       "    <tr>\n",
       "      <th>13</th>\n",
       "      <td>zipcode</td>\n",
       "      <td>0.000</td>\n",
       "    </tr>\n",
       "  </tbody>\n",
       "</table>\n",
       "</div>"
      ],
      "text/plain": [
       "          columns_  importances\n",
       "0         industry        0.175\n",
       "1     priordefault        0.175\n",
       "2           income        0.150\n",
       "3      creditscore        0.150\n",
       "4    yearsemployed        0.150\n",
       "5         employed        0.125\n",
       "6             debt        0.050\n",
       "7          married        0.025\n",
       "8           gender        0.000\n",
       "9              age        0.000\n",
       "10       ethnicity        0.000\n",
       "11  driverslicense        0.000\n",
       "12         citizen        0.000\n",
       "13         zipcode        0.000"
      ]
     },
     "execution_count": 18,
     "metadata": {},
     "output_type": "execute_result"
    }
   ],
   "source": [
    "# Get feature importances and create DataFrame\n",
    "feature_names = X_train.columns\n",
    "feature_importances = best_dt_estimator.feature_importances_\n",
    "coefs_ = pd.DataFrame({\"columns_\": feature_names, \"importances\": feature_importances}).sort_values(\"importances\", ascending=False)\n",
    "coefs_ = coefs_.reset_index(drop=True)\n",
    "coefs_"
   ]
  },
  {
   "cell_type": "markdown",
   "metadata": {
    "colab": {
     "base_uri": "https://localhost:8080/",
     "height": 542
    },
    "id": "rAYjlKqCbj-U",
    "outputId": "20b770a4-a2ee-4258-c7a3-50b88f3021bb",
    "scrolled": true
   },
   "source": [
    "## Catboost"
   ]
  },
  {
   "cell_type": "code",
   "execution_count": 19,
   "metadata": {},
   "outputs": [
    {
     "name": "stdout",
     "output_type": "stream",
     "text": [
      "Dropped columns with unique values: []\n",
      "Number of duplicates after dropping: 0\n"
     ]
    }
   ],
   "source": [
    "df_cb = pd.read_csv(\"clean_dataset.csv\")\n",
    "\n",
    "# Clean column names\n",
    "df_cb.columns = df_cb.columns.str.lower().str.replace(' ', '_').str.replace('-', '_')\n",
    "\n",
    "# Drop columns with unique values equal to the number of observations\n",
    "df_cb_unique = df_cb.nunique().sort_values(ascending=False)\n",
    "df_cb_drop_cols = df_cb_unique[df_cb_unique.values == df_cb.shape[0]].index.tolist()\n",
    "df_cb = df_cb.drop(columns=df_cb_drop_cols)\n",
    "print(\"Dropped columns with unique values:\", df_cb_drop_cols)\n",
    "\n",
    "# Check for duplicate observations and drop them\n",
    "df_cb_num_duplicates = df_cb.duplicated().sum()\n",
    "df_cb = df_cb.drop_duplicates()\n",
    "print(\"Number of duplicates after dropping:\", df_cb.duplicated().sum())\n",
    "\n",
    "# Simplify zipcode for this example\n",
    "df_cb_vc = df_cb[\"zipcode\"].value_counts()\n",
    "df_cb.loc[df_cb.zipcode != 0, \"zipcode\"] = 1\n",
    "\n",
    "# Encode the target variable\n",
    "df_cb_le = LabelEncoder()\n",
    "df_cb[\"approved\"] = df_cb_le.fit_transform(df_cb[\"approved\"])\n",
    "\n",
    "# Define target and features\n",
    "df_cb_X = df_cb.drop(\"approved\", axis=1)\n",
    "df_cb_y = df_cb[\"approved\"]\n",
    "\n",
    "# Split the dataset into training and testing sets\n",
    "df_cb_X_train, df_cb_X_test, df_cb_y_train, df_cb_y_test = train_test_split(df_cb_X, df_cb_y, test_size=0.2, random_state=42)\n",
    "\n",
    "# Apply LabelEncoder to binary categorical features\n",
    "df_cb_binary_categorical_features = [\"gender\", \"married\", \"bankcustomer\", \"employed\", \"driverslicense\"]\n",
    "df_cb_le = LabelEncoder()\n",
    "for feature in df_cb_binary_categorical_features:\n",
    "    df_cb_X_train[feature] = df_cb_le.fit_transform(df_cb_X_train[feature])\n",
    "    df_cb_X_test[feature] = df_cb_le.transform(df_cb_X_test[feature])\n"
   ]
  },
  {
   "cell_type": "code",
   "execution_count": 20,
   "metadata": {
    "colab": {
     "base_uri": "https://localhost:8080/",
     "height": 885
    },
    "id": "Nq1g6i6vyIWR",
    "outputId": "6da14aa9-715c-4681-d7b0-f05f65f55228"
   },
   "outputs": [
    {
     "name": "stdout",
     "output_type": "stream",
     "text": [
      "0:\tlearn: 0.8659420\ttest: 0.8260870\tbest: 0.8260870 (0)\ttotal: 6.73ms\tremaining: 4.7s\n",
      "Stopped by overfitting detector  (50 iterations wait)\n",
      "\n",
      "bestTest = 0.8333333333\n",
      "bestIteration = 3\n",
      "\n",
      "Shrink model to first 4 iterations.\n",
      "Train ROC AUC Score: 0.9515\n",
      "Test ROC AUC Score: 0.9251\n"
     ]
    }
   ],
   "source": [
    "# Define categorical features for CatBoost\n",
    "from catboost import CatBoostClassifier, Pool\n",
    "df_cb_cat_features = [\"gender\", \"married\", \"industry\", \"ethnicity\", \"employed\", \"driverslicense\", \"citizen\", \"zipcode\"]\n",
    "\n",
    "# Create CatBoost Pool for training and testing\n",
    "df_cb_train_pool = Pool(data=df_cb_X_train, label=df_cb_y_train, cat_features=df_cb_cat_features)\n",
    "df_cb_test_pool = Pool(data=df_cb_X_test, label=df_cb_y_test, cat_features=df_cb_cat_features)\n",
    "\n",
    "# Initialize and train the CatBoost classifier\n",
    "df_cb_catboost_model = CatBoostClassifier(\n",
    "    iterations=700,\n",
    "    learning_rate=0.01,\n",
    "    depth=6,\n",
    "    loss_function='Logloss',\n",
    "    eval_metric='Accuracy',\n",
    "    random_seed=42,\n",
    "    verbose=100\n",
    ")\n",
    "\n",
    "df_cb_catboost_model.fit(df_cb_train_pool, eval_set=df_cb_test_pool, early_stopping_rounds=50)\n",
    "\n",
    "df_cb_y_train_pred_proba = df_cb_catboost_model.predict_proba(df_cb_X_train)[:, 1]\n",
    "df_cb_train_roc_auc = roc_auc_score(df_cb_y_train, df_cb_y_train_pred_proba)\n",
    "\n",
    "# Compute ROC AUC for testing set\n",
    "df_cb_y_test_pred_proba = df_cb_catboost_model.predict_proba(df_cb_X_test)[:, 1]\n",
    "df_cb_test_roc_auc = roc_auc_score(df_cb_y_test, df_cb_y_test_pred_proba)\n",
    "\n",
    "print(f\"Train ROC AUC Score: {df_cb_train_roc_auc:.4f}\")\n",
    "print(f\"Test ROC AUC Score: {df_cb_test_roc_auc:.4f}\")\n"
   ]
  },
  {
   "cell_type": "code",
   "execution_count": 21,
   "metadata": {
    "colab": {
     "base_uri": "https://localhost:8080/",
     "height": 145
    },
    "id": "JKqrKKg2JOxz",
    "outputId": "f338aa33-4195-47bd-97d5-d46da6319716"
   },
   "outputs": [
    {
     "data": {
      "text/html": [
       "<div>\n",
       "<style scoped>\n",
       "    .dataframe tbody tr th:only-of-type {\n",
       "        vertical-align: middle;\n",
       "    }\n",
       "\n",
       "    .dataframe tbody tr th {\n",
       "        vertical-align: top;\n",
       "    }\n",
       "\n",
       "    .dataframe thead th {\n",
       "        text-align: right;\n",
       "    }\n",
       "</style>\n",
       "<table border=\"1\" class=\"dataframe\">\n",
       "  <thead>\n",
       "    <tr style=\"text-align: right;\">\n",
       "      <th></th>\n",
       "      <th>columns_</th>\n",
       "      <th>importances</th>\n",
       "    </tr>\n",
       "  </thead>\n",
       "  <tbody>\n",
       "    <tr>\n",
       "      <th>0</th>\n",
       "      <td>industry</td>\n",
       "      <td>0.175</td>\n",
       "    </tr>\n",
       "    <tr>\n",
       "      <th>1</th>\n",
       "      <td>priordefault</td>\n",
       "      <td>0.175</td>\n",
       "    </tr>\n",
       "    <tr>\n",
       "      <th>2</th>\n",
       "      <td>income</td>\n",
       "      <td>0.150</td>\n",
       "    </tr>\n",
       "    <tr>\n",
       "      <th>3</th>\n",
       "      <td>creditscore</td>\n",
       "      <td>0.150</td>\n",
       "    </tr>\n",
       "    <tr>\n",
       "      <th>4</th>\n",
       "      <td>yearsemployed</td>\n",
       "      <td>0.150</td>\n",
       "    </tr>\n",
       "    <tr>\n",
       "      <th>5</th>\n",
       "      <td>employed</td>\n",
       "      <td>0.125</td>\n",
       "    </tr>\n",
       "    <tr>\n",
       "      <th>6</th>\n",
       "      <td>debt</td>\n",
       "      <td>0.050</td>\n",
       "    </tr>\n",
       "    <tr>\n",
       "      <th>7</th>\n",
       "      <td>married</td>\n",
       "      <td>0.025</td>\n",
       "    </tr>\n",
       "    <tr>\n",
       "      <th>8</th>\n",
       "      <td>gender</td>\n",
       "      <td>0.000</td>\n",
       "    </tr>\n",
       "    <tr>\n",
       "      <th>9</th>\n",
       "      <td>age</td>\n",
       "      <td>0.000</td>\n",
       "    </tr>\n",
       "    <tr>\n",
       "      <th>10</th>\n",
       "      <td>ethnicity</td>\n",
       "      <td>0.000</td>\n",
       "    </tr>\n",
       "    <tr>\n",
       "      <th>11</th>\n",
       "      <td>driverslicense</td>\n",
       "      <td>0.000</td>\n",
       "    </tr>\n",
       "    <tr>\n",
       "      <th>12</th>\n",
       "      <td>citizen</td>\n",
       "      <td>0.000</td>\n",
       "    </tr>\n",
       "    <tr>\n",
       "      <th>13</th>\n",
       "      <td>zipcode</td>\n",
       "      <td>0.000</td>\n",
       "    </tr>\n",
       "  </tbody>\n",
       "</table>\n",
       "</div>"
      ],
      "text/plain": [
       "          columns_  importances\n",
       "0         industry        0.175\n",
       "1     priordefault        0.175\n",
       "2           income        0.150\n",
       "3      creditscore        0.150\n",
       "4    yearsemployed        0.150\n",
       "5         employed        0.125\n",
       "6             debt        0.050\n",
       "7          married        0.025\n",
       "8           gender        0.000\n",
       "9              age        0.000\n",
       "10       ethnicity        0.000\n",
       "11  driverslicense        0.000\n",
       "12         citizen        0.000\n",
       "13         zipcode        0.000"
      ]
     },
     "execution_count": 21,
     "metadata": {},
     "output_type": "execute_result"
    }
   ],
   "source": [
    "# Get feature importances and create DataFrame\n",
    "df_cb_feature_names = df_cb_X_train.columns\n",
    "df_cb_feature_importances = df_cb_catboost_model.feature_importances_\n",
    "df_cb_coefs_ = pd.DataFrame({\"columns_\": df_cb_feature_names, \"importances\": df_cb_feature_importances}).sort_values(\"importances\", ascending=False)\n",
    "df_cb_coefs_ = coefs_.reset_index(drop=True)\n",
    "\n",
    "df_cb_coefs_"
   ]
  },
  {
   "cell_type": "markdown",
   "metadata": {
    "id": "i4T_fEh1OMGS"
   },
   "source": [
    "## XGBoost"
   ]
  },
  {
   "cell_type": "code",
   "execution_count": 22,
   "metadata": {},
   "outputs": [],
   "source": [
    "\n",
    "# Load the dataset\n",
    "df_xgb = pd.read_csv(\"clean_dataset.csv\")\n",
    "\n",
    "# Preprocess column names\n",
    "df_xgb.columns = df_xgb.columns.str.lower().str.replace(' ', '_').str.replace('-', '_')\n",
    "\n",
    "# Drop columns with unique values equal to the number of observations\n",
    "df_xgb_unique = df_xgb.nunique().sort_values(ascending=False)\n",
    "drop_cols = df_xgb_unique[df_xgb_unique.values == df_xgb.shape[0]].index.tolist()\n",
    "df_xgb = df_xgb.drop(columns=drop_cols)\n",
    "\n",
    "# Simplify zipcode feature\n",
    "df_xgb.loc[df_xgb.zipcode != 0, \"zipcode\"] = 1\n",
    "\n",
    "# Encode the target variable\n",
    "le = LabelEncoder()\n",
    "df_xgb[\"approved\"] = le.fit_transform(df_xgb[\"approved\"])\n",
    "\n",
    "# Define target and features\n",
    "X_xgb = df_xgb.drop(\"approved\", axis=1)\n",
    "y_xgb = df_xgb[\"approved\"]\n",
    "\n",
    "# Split the dataset into training and testing sets\n",
    "X_train_xgb, X_test_xgb, y_train_xgb, y_test_xgb = train_test_split(X_xgb, y_xgb, test_size=0.2, random_state=42)\n",
    "\n",
    "# Identify categorical features for target encoding\n",
    "target_encode_features_xgb = [\"industry\", \"ethnicity\", \"citizen\"]\n",
    "\n",
    "# Apply target encoding to categorical features\n",
    "target_encoder_xgb = TargetEncoder(cols=target_encode_features_xgb)\n",
    "X_train_xgb[target_encode_features_xgb] = target_encoder_xgb.fit_transform(X_train_xgb[target_encode_features_xgb], y_train_xgb)\n",
    "X_test_xgb[target_encode_features_xgb] = target_encoder_xgb.transform(X_test_xgb[target_encode_features_xgb])\n",
    "\n",
    "# Apply LabelEncoder to binary categorical features\n",
    "binary_categorical_features_xgb = [\"gender\", \"married\", \"bankcustomer\", \"employed\", \"driverslicense\"]\n",
    "le = LabelEncoder()\n",
    "for feature in binary_categorical_features_xgb:\n",
    "    X_train_xgb[feature] = le.fit_transform(X_train_xgb[feature])\n",
    "    X_test_xgb[feature] = le.transform(X_test_xgb[feature])\n",
    "\n",
    "# Calculate correlation matrix and drop highly correlated features\n",
    "corr_threshold = 0.8\n",
    "corr_matrix = X_train_xgb.corr()\n",
    "mask = np.triu(np.ones_like(corr_matrix, dtype=bool), k=1)\n",
    "corr_pairs = corr_matrix.where(mask).stack()\n",
    "highly_corr_pairs = corr_pairs[abs(corr_pairs) > corr_threshold].reset_index()\n",
    "col_freq = highly_corr_pairs['level_0'].value_counts()\n",
    "cols_drop = col_freq[col_freq.values > 1].index.tolist()\n",
    "if cols_drop:\n",
    "    X_train_xgb = X_train_xgb.drop(cols_drop, axis=1)\n",
    "    X_test_xgb = X_test_xgb.drop(cols_drop, axis=1)\n",
    "\n",
    "corr_matrix = X_train_xgb.corr()\n",
    "mask = np.triu(np.ones_like(corr_matrix, dtype=bool), k=1)\n",
    "corr_pairs = corr_matrix.where(mask).stack()\n",
    "highly_corr_pairs = corr_pairs[abs(corr_pairs) > corr_threshold].reset_index()\n",
    "cols_drop = highly_corr_pairs['level_1'].tolist()\n",
    "if cols_drop:\n",
    "    X_train_xgb = X_train_xgb.drop(cols_drop, axis=1)\n",
    "    X_test_xgb = X_test_xgb.drop(cols_drop, axis=1)\n"
   ]
  },
  {
   "cell_type": "code",
   "execution_count": 23,
   "metadata": {},
   "outputs": [
    {
     "name": "stdout",
     "output_type": "stream",
     "text": [
      "Best estimator: XGBClassifier(alpha=0.5, base_score=None, booster=None, callbacks=None,\n",
      "              colsample_bylevel=None, colsample_bynode=None,\n",
      "              colsample_bytree=None, device=None, early_stopping_rounds=None,\n",
      "              enable_categorical=False, eval_metric='logloss',\n",
      "              feature_types=None, gamma=0.01, grow_policy=None,\n",
      "              importance_type=None, interaction_constraints=None, lambda=0.3,\n",
      "              learning_rate=0.1, max_bin=None, max_cat_threshold=None,\n",
      "              max_cat_to_onehot=None, max_delta_step=None, max_depth=1,\n",
      "              max_leaves=None, min_child_weight=None, missing=nan,\n",
      "              monotone_constraints=None, multi_strategy=None, n_estimators=30,\n",
      "              n_jobs=None, ...)\n",
      "Training AUC: 0.9429308150827138\n",
      "Testing AUC: 0.9101890756302521\n"
     ]
    }
   ],
   "source": [
    "# Initialize the XGBoost classifier\n",
    "xgb_model = xgb.XGBClassifier(random_state=42, use_label_encoder=False, eval_metric='logloss')\n",
    "\n",
    "# Set up the parameter grid for GridSearchCV\n",
    "xgb_param_grid = {\n",
    "    'n_estimators': [30],\n",
    "    'max_depth': [1],\n",
    "    'learning_rate': [0.1],\n",
    "    'gamma': [0.01],  # Regularization parameter\n",
    "    'lambda': [ 0.3],   # L2 regularization term\n",
    "    'alpha': [ 0.5]    # L1 regularization term\n",
    "}\n",
    "\n",
    "\n",
    "# Set up GridSearchCV\n",
    "gs_xgb = GridSearchCV(xgb_model, param_grid=xgb_param_grid, scoring='roc_auc', cv=3)\n",
    "\n",
    "# Fit GridSearchCV\n",
    "gs_xgb.fit(X_train_xgb, y_train_xgb)\n",
    "\n",
    "# Access the best estimator\n",
    "best_xgb_estimator = gs_xgb.best_estimator_\n",
    "print(\"Best estimator:\", best_xgb_estimator)\n",
    "\n",
    "# Make predictions\n",
    "y_train_predicted = best_xgb_estimator.predict(X_train_xgb)\n",
    "y_test_predicted = best_xgb_estimator.predict(X_test_xgb)\n",
    "\n",
    "train_probs = best_xgb_estimator.predict_proba(X_train_xgb)[:, 1]\n",
    "test_probs = best_xgb_estimator.predict_proba(X_test_xgb)[:, 1]\n",
    "\n",
    "train_auc = roc_auc_score(y_train_xgb, train_probs)\n",
    "test_auc = roc_auc_score(y_test_xgb, test_probs)\n",
    "\n",
    "print(\"Training AUC:\", train_auc)\n",
    "print(\"Testing AUC:\", test_auc)"
   ]
  },
  {
   "cell_type": "code",
   "execution_count": null,
   "metadata": {},
   "outputs": [],
   "source": []
  }
 ],
 "metadata": {
  "colab": {
   "provenance": []
  },
  "kernelspec": {
   "display_name": "Python 3 (ipykernel)",
   "language": "python",
   "name": "python3"
  },
  "language_info": {
   "codemirror_mode": {
    "name": "ipython",
    "version": 3
   },
   "file_extension": ".py",
   "mimetype": "text/x-python",
   "name": "python",
   "nbconvert_exporter": "python",
   "pygments_lexer": "ipython3",
   "version": "3.11.8"
  }
 },
 "nbformat": 4,
 "nbformat_minor": 4
}
